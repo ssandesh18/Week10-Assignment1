{
 "cells": [
  {
   "cell_type": "markdown",
   "id": "4c53e99b-e6c2-40a5-bdb5-bf39c558161e",
   "metadata": {},
   "source": [
    "Q1. What is Statistics?"
   ]
  },
  {
   "cell_type": "markdown",
   "id": "3612cd9d-43fd-47a0-88a7-637817ef50aa",
   "metadata": {},
   "source": [
    "Statistics is the study of the collection, analysis, interpretation, presentation, and organization of data. In other words, it is a mathematical discipline to collect, summarize data. Also, we can say that statistics is a branch of applied mathematics. However, there are two important and basic ideas involved in statistics; they are uncertainty and variation. The uncertainty and variation in different fields can be determined only through statistical analysis. These uncertainties are basically determined by the probability that plays an important role in statistics. Statistics is simply defined as the study and manipulation of data. As we have already discussed in the introduction that statistics deals with the analysis and computation of numerical data. Let us see more definitions of statistics given by different authors here.According to Merriam-Webster dictionary, statistics is defined as “classified facts representing the conditions of a people in a state – especially the facts that can be stated in numbers or any other tabular or classified arrangement”."
   ]
  },
  {
   "cell_type": "markdown",
   "id": "13a9a13a-fe79-4e9f-a0aa-7c626021c4c0",
   "metadata": {},
   "source": [
    " Q2. Define the different types of statistics and give an example of when each type might be used"
   ]
  },
  {
   "cell_type": "markdown",
   "id": "4f097cf8-0b57-4567-acf9-54234e09bafe",
   "metadata": {},
   "source": [
    "Types of Statistics in Maths\n",
    "Statistics have majorly categorised into two types:\n",
    "\n",
    "1. Descriptive statistics\n",
    "2. Inferential statistics\n",
    "\n",
    "Descriptive Statistics\n",
    "In the descriptive Statistics, the Data is described in a summarized way. The summarization is done from the sample of the population using different parameters like Mean or standard deviation. Descriptive Statistics are a way of using charts, graphs, and summary measures to organize, represent, and explain a set of Data. \n",
    "1. Data is typically arranged and displayed in tables or graphs summarizing details such as histograms, pie charts, bars or scatter plots.\n",
    "2. Descriptive Statistics are just descriptive and thus do not require normalization beyond the Data collected.\n",
    "Eg. Mean, Median and Mode in Statistics\n",
    "Mean: Mean is considered the arithmetic average of a Data set that is found by adding the numbers in a set and dividing by the number of observations in the Data set. \n",
    "\n",
    "Median: The middle number in the Data set while listed in either ascending or descending order is the Median. \n",
    "\n",
    "Mode: The number that occurs the most in a Data set and ranges between the highest and lowest value is the Mode.\n",
    "\n",
    "\n",
    "Inferential Statistics\n",
    "In the Inferential Statistics, we try to interpret the Meaning of descriptive Statistics. After the Data has been collected, analyzed, and summarised we use Inferential Statistics to describe the Meaning of the collected Data. \n",
    "1. Inferential Statistics use the probability principle to assess whether trends contained in the research sample can be generalized to the larger population from which the sample originally comes.\n",
    "2. Inferential Statistics are intended to test hypotheses and investigate relationships between variables and can be used to make population predictions.\n",
    "3. Inferential Statistics are used to draw conclusions and inferences, i.e., to make valid generalizations from samples.\n",
    "Example: Inferential statistics\n",
    "You randomly select a sample of 11th graders in your state and collect data on their SAT scores and other characteristics.\n",
    "You can use inferential statistics to make estimates and test hypotheses about the whole population of 11th graders in the state based on your sample data.\n",
    "hypothesis testing regression analysis\n"
   ]
  },
  {
   "cell_type": "markdown",
   "id": "ec10bb1e-56d5-4307-9e1b-eecd73734e57",
   "metadata": {},
   "source": [
    "Q3.  What are the different types of data and how do they differ from each other? Provide an example of \n",
    "each type of data."
   ]
  },
  {
   "cell_type": "markdown",
   "id": "7da5ba79-b860-4fc2-b612-f02acf1bf260",
   "metadata": {},
   "source": [
    "There are two types of data: Qualitative and Quantitative data, which are further classified into:\n",
    "\n",
    "The data is classified into four categories:\n",
    "Nominal data.\n",
    "Ordinal data.\n",
    "Discrete data.\n",
    "Continuous data.\n",
    "\n",
    "Qualitative or Categorical Data\n",
    "Qualitative or Categorical Data is data that can’t be measured or counted in the form of numbers. These types of data are sorted by category, not by number. That’s why it is also known as Categorical Data. These data consist of audio, images, symbols, or text. The gender of a person, i.e., male, female, or others, is qualitative data.\n",
    "\n",
    "Qualitative data tells about the perception of people. This data helps market researchers understand the customers’ tastes and then design their ideas and strategies accordingly. \n",
    "\n",
    "The other examples of qualitative data are :\n",
    "What language do you speak\n",
    "Favorite holiday destination\n",
    "Opinion on something (agree, disagree, or neutral)\n",
    "Colors\n",
    "The Qualitative data are further classified into two parts :\n",
    "Nominal Data\n",
    "Nominal Data is used to label variables without any order or quantitative value. The color of hair can be considered nominal data, as one color can’t be compared with another color.\n",
    "\n",
    "The name “nominal” comes from the Latin name “nomen,” which means “name.” With the help of nominal data, we can’t do any numerical tasks or can’t give any order to sort the data. These data don’t have any meaningful order; their values are distributed into distinct categories.\n",
    "\n",
    "Examples of Nominal Data :\n",
    "\n",
    "Colour of hair (Blonde, red, Brown, Black, etc.)\n",
    "Marital status (Single, Widowed, Married)\n",
    "\n",
    "Ordinal Data\n",
    "Ordinal data have natural ordering where a number is present in some kind of order by their position on the scale. These data are used for observation like customer satisfaction, happiness, etc., but we can’t do any arithmetical tasks on them. \n",
    "\n",
    "Ordinal data is qualitative data for which their values have some kind of relative position. These kinds of data can be considered “in-between” qualitative and quantitative data. The ordinal data only shows the sequences and cannot use for statistical analysis. Compared to nominal data, ordinal data have some kind of order that is not present in nominal data.  \n",
    "\n",
    "Examples of Ordinal Data :\n",
    "When companies ask for feedback, experience, or satisfaction on a scale of 1 to 10\n",
    "Letter grades in the exam (A, B, C, D, etc.)\n",
    "Ranking of people in a competition (First, Second, Third, etc.)\n",
    "\n",
    "Quantitative Data\n",
    "Quantitative data can be expressed in numerical values, making it countable and including statistical data analysis. These kinds of data are also known as Numerical data. It answers the questions like “how much,” “how many,” and “how often.” For example, the price of a phone, the computer’s ram, the height or weight of a person, etc., falls under quantitative data. \n",
    "\n",
    "Quantitative data can be used for statistical manipulation. These data can be represented on a wide variety of graphs and charts, such as bar graphs, histograms, scatter plots, boxplots, pie charts, line graphs, etc.\n",
    "\n",
    "Examples of Quantitative Data : \n",
    "Height or weight of a person or object\n",
    "Room Temperature\n",
    "Scores and Marks (Ex: 59, 80, 60, etc.)\n",
    "Time\n",
    "\n",
    "The Quantitative data are further classified into two parts :\n",
    "Discrete Data\n",
    "The term discrete means distinct or separate. The discrete data contain the values that fall under integers or whole numbers. The total number of students in a class is an example of discrete data. These data can’t be broken into decimal or fraction values.\n",
    "\n",
    "The discrete data are countable and have finite values; their subdivision is not possible. These data are represented mainly by a bar graph, number line, or frequency table.\n",
    "\n",
    "Examples of Discrete Data : \n",
    "Total numbers of students present in a class\n",
    "Cost of a cell phone\n",
    "Numbers of employees in a company\n",
    "\n",
    "\n",
    "Continuous Data\n",
    "Continuous data are in the form of fractional numbers. It can be the version of an android phone, the height of a person, the length of an object, etc. Continuous data represents information that can be divided into smaller levels. The continuous variable can take any value within a range. \n",
    "\n",
    "The key difference between discrete and continuous data is that discrete data contains the integer or whole number. Still, continuous data stores the fractional numbers to record different types of data such as temperature, height, width, time, speed, etc.\n",
    "\n",
    "Examples of Continuous Data : \n",
    "Height of a person\n",
    "Speed of a vehicle\n",
    "“Time-taken” to finish the work \n"
   ]
  },
  {
   "cell_type": "markdown",
   "id": "23349366-b52b-44cb-a28c-314aa4cc4965",
   "metadata": {},
   "source": [
    "Q.4 Categorise the following datasets with respect to quantitative and qualitative data types:\n",
    "\n",
    "(i)\tGrading in exam: A+, A, B+, B, C+, C, D, E =\n",
    "(ii)\tColour of mangoes: yellow, green, orange, red = Qualitative\n",
    "(iii)\tHeight data of a class: [178.9, 179, 179.5, 176, 177.2, 178.3, 175.8,...]=\n",
    "(iv)\tNumber of mangoes exported by a farm: [500, 600, 478, 672, …]="
   ]
  },
  {
   "cell_type": "markdown",
   "id": "08bda9fc-ca8f-4d6e-950c-d8c3e67325ff",
   "metadata": {},
   "source": [
    "Q5. Explain the concept of levels of measurement and give an example of a variable for each level"
   ]
  },
  {
   "cell_type": "markdown",
   "id": "4a3a544e-1f33-4a2c-b486-578920399e4a",
   "metadata": {},
   "source": [
    "Levels of measurement, also called scales of measurement, tell you how precisely variables are recorded. In scientific research, a variable is anything that can take on different values across your data set (e.g., height or test scores).\n",
    "\n",
    "There are 4 levels of measurement:\n",
    "\n",
    "Nominal: the data can only be categorized\n",
    "Ordinal: the data can be categorized and ranked\n",
    "Interval: the data can be categorized, ranked, and evenly spaced\n",
    "Ratio: the data can be categorized, ranked, evenly spaced, and has a natural zero.\n",
    "\n",
    "Nominal level\n",
    "You can categorize your data by labelling them in mutually exclusive groups, but there is no order between the categories.\t\n",
    "City of birth\n",
    "Gender\n",
    "Ethnicity\n",
    "\n",
    "Ordinal\n",
    "You can categorize and rank your data in an order, but you cannot say anything about the intervals between the rankings.\n",
    "Although you can rank the top 5 Olympic medallists, this scale does not tell you how close or far apart they are in number of wins.\n",
    "\n",
    "Top 5 Olympic medallists\n",
    "Language ability (e.g., beginner, intermediate, fluent)\n",
    "\n",
    "Interval\n",
    "You can categorize, rank, and infer equal intervals between neighboring data points, but there is no true zero point.\n",
    "Test scores (e.g., IQ or exams)\n",
    "Personality inventories\n",
    "Temperature in Fahrenheit or Celsius\n",
    "\n",
    "Ratio\n",
    "You can categorize, rank, and infer equal intervals between neighboring data points, and there is a true zero point.\n",
    "Height\n",
    "Age\n",
    "Weight\n",
    "Temperature in Kelvin"
   ]
  },
  {
   "cell_type": "markdown",
   "id": "90536abc-d26b-4cef-aee7-de1b11d000f9",
   "metadata": {},
   "source": [
    "Q6. Why is it important to understand the level of measurement when analyzing data? Provide an \n",
    "example to illustrate your answer."
   ]
  },
  {
   "cell_type": "markdown",
   "id": "0686d28a-4554-4cf3-a255-9312754e63dd",
   "metadata": {},
   "source": [
    "The level of measurement refers to the relationship among the values that are assigned to the attributes for a variable. What does that mean? Begin with the idea of the variable, in this example “party affiliation.”\n",
    "That variable has a number of attributes. Let’s assume that in this particular election context the only relevant attributes are “republican”, “democrat”, and “independent”. For purposes of analyzing the results of this variable, we arbitrarily assign the values 1, 2 and 3 to the three attributes. The level of measurement describes the relationship among these three values. In this case, we simply are using the numbers as shorter placeholders for the lengthier text terms. We don’t assume that higher values mean “more” of something and lower numbers signify “less”. We don’t assume the value of 2 means that democrats are twice something that republicans are. We don’t assume that republicans are in first place or have the highest priority just because they have the value of 1. In this case, we only use the values as a shorter name for the attribute. Here, we would describe the level of measurement as “nominal”.\n",
    "\n",
    "That variable has a number of attributes. Let’s assume that in this particular election context the only relevant attributes are “republican”, “democrat”, and “independent”. For purposes of analyzing the results of this variable, we arbitrarily assign the values 1, 2 and 3 to the three attributes. The level of measurement describes the relationship among these three values. In this case, we simply are using the numbers as shorter placeholders for the lengthier text terms. We don’t assume that higher values mean “more” of something and lower numbers signify “less”. We don’t assume the value of 2 means that democrats are twice something that republicans are. We don’t assume that republicans are in first place or have the highest priority just because they have the value of 1. In this case, we only use the values as a shorter name for the attribute. Here, we would describe the level of measurement as “nominal”. In nominal measurement the numerical values just “name” the attribute uniquely. No ordering of the cases is implied. For example, jersey numbers in basketball are measures at the nominal level. A player with number 30 is not more of anything than a player with number 15, and is certainly not twice whatever number 15 is.\n"
   ]
  },
  {
   "cell_type": "markdown",
   "id": "df8cc2cb-e9a2-4b2d-a80e-1ad5b15346be",
   "metadata": {},
   "source": [
    " Q7. How nominal data type is different from ordinal data type\n",
    "    \n",
    "Ordinal data is a kind of qualitative data that groups variables into ordered categories. The categories have a natural order or rank based on some hierarchal scale. \n",
    "\n",
    "The main differences between Nominal Data and Ordinal Data are:\n",
    "\n",
    "While Nominal Data is classified without any intrinsic ordering or rank, Ordinal Data has some predetermined or natural order. \n",
    "Nominal data is qualitative or categorical data, while Ordinal data is considered “in-between” qualitative and quantitative data.\n",
    "Nominal data do not provide any quantitative value, and you cannot perform numeric operations with them or compare them with one another. However, Ordinal data provide sequence, and it is possible to assign numbers to the data. No numeric operations can be performed. But ordinal data makes it possible to compare one item with another in terms of ranking.  \n",
    "Example of Nominal Data – Eye color, Gender; Example of Ordinal data – Customer Feedback, Economic Status"
   ]
  },
  {
   "cell_type": "markdown",
   "id": "b0d59026-b474-4e2f-b538-b7507e42a8bd",
   "metadata": {},
   "source": [
    " Q8. Which type of plot can be used to display data in terms of range\n",
    " \n",
    " Boxplots\n",
    "Boxplots display data ranges for groups within a dataset. In boxplots, it equals the entire length of the whiskers for each group. The minimum and maximum values appear at the ends of the whiskers except when there are outliers. Consequently, ranges in boxplots exclude outliers."
   ]
  },
  {
   "cell_type": "markdown",
   "id": "84818f47-e161-4493-bd2c-373f21e830e8",
   "metadata": {},
   "source": [
    " Q9. Describe the difference between descriptive and inferential statistics. Give an example of each \n",
    "type of statistics and explain how they are used.\n",
    "\n",
    "Descriptive Statistics\n",
    "It gives information about raw data which describes the data in some manner.\n",
    "It helps in organizing, analyzing, and to present data in a meaningful manner.\n",
    "It is used to describe a situation.\n",
    "It explains already known data and is limited to a sample or population having a small size.\n",
    "It can be achieved with the help of charts, graphs, tables, etc.\n",
    "Eg. Mean,median,mode,rangr,frequency\n",
    "\n",
    "Inferential Statistics\n",
    "It makes inferences about the population using data drawn from the population.\n",
    "It allows us to compare data, and make hypotheses and predictions.\n",
    "It is used to explain the chance of occurrence of an event.\n",
    "It attempts to reach the conclusion about the population.\n",
    "It can be achieved by probability.\n",
    "Eg. Hypothesis testing, confidence interval,regrssion analysis, ANOVA"
   ]
  },
  {
   "cell_type": "markdown",
   "id": "df0ebd54-3adf-43d0-8132-1cb40d607538",
   "metadata": {},
   "source": [
    "Q10. What are some common measures of central tendency and variability used in statistics? Explain \n",
    "how each measure can be used to describe a dataset\n",
    "\n",
    "Central tendency\n",
    "Definition: the tendency of quantitative data to cluster around some central value. The closeness with which the values surround the central value is commonly quantified using the standard deviation. They are classified as summary statistics\n",
    "Measures of Central Tendency\n",
    "Mean: The sum of all measurements divided by the number of observations.Can be used with discrete and continuous data. It is value that is most common\n",
    "Median: The middle value that separates the higher half from the lower half. Mean and median can be compared with each other to determine if the population is of normal distribution or not. Numbers are arranged in either ascending or descending order. The middle number is than taken.\n",
    "Mode: The most frequent value. It shows most popular option and is the highest bar in histogram.Example of use: to determine the most common blood group.\n",
    "Geometric mean - the nth root of the product of the data values.\n",
    "Harmonic mean - the reciprocal of the arithmetic mean of the reciprocals of the data values.\n",
    "Weighted mean - an arithmetic mean that makes use of weighting to certain data elements.\n",
    "Truncated mean - the arithmetic mean of data values that do not include the whole set of values, such as ignoring values after a certain number or discarding a fixed proportion of the highest and lower values.\n",
    "Midrange - the arithmetic mean of the maximum and minimum values of a data set\n",
    "\n",
    "Variability (dispersion)\n",
    "Definition: dispersion is contrasted with location or central tendency, and together they are the most used properties of distributions. It is the variability or spread in a variable or a probability distribution Ie They tell us how much observations in a data set vary.They allow us to summarise our data set with a single value hence giving a more accurate picture of our data set.\n",
    "Measures of variability\n",
    "Variance: A measure of how far a set of numbers are spread out from each other. It describes how far the numbers lie from the mean (expected value). It is the square of standard deviation.\n",
    "Standard deviation (SD): it is only used for data that are “normally distributed”. SD indicates how much a set of values is spread around the average. SD is determined by the variance (SD=the root of the variance).\n",
    "Interquartile range (IQR): the interquartile range (IQR), is also known as the 'midspread' or 'middle fifty', is a measure of statistical dispersion, being equal to the difference between the third and first quartiles. IQR = Q3 − Q1. Unlike (total) range, the interquartile range is a more commonly used statistic, since it excludes the lower 25% and upper 25%, therefore reflecting more accurately valid values and excluding the outliers.\n",
    "Range: it is the length of the smallest interval which contains all the data and is calculated by subtracting the smallest observation (sample minimum) from the greatest (sample maximum) and provides an indication of statistical dispersion. It bears the same units as the data used for calculating it. Because of its dependance on just two observations, it tends to be a poor and weak measure of dispersion, with the only exception being when the sample size is large."
   ]
  },
  {
   "cell_type": "code",
   "execution_count": null,
   "id": "1fd803c1-db7c-4412-9fc1-de13e99a2858",
   "metadata": {},
   "outputs": [],
   "source": []
  }
 ],
 "metadata": {
  "kernelspec": {
   "display_name": "Python 3 (ipykernel)",
   "language": "python",
   "name": "python3"
  },
  "language_info": {
   "codemirror_mode": {
    "name": "ipython",
    "version": 3
   },
   "file_extension": ".py",
   "mimetype": "text/x-python",
   "name": "python",
   "nbconvert_exporter": "python",
   "pygments_lexer": "ipython3",
   "version": "3.10.8"
  }
 },
 "nbformat": 4,
 "nbformat_minor": 5
}
